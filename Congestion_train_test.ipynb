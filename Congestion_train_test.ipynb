{
 "cells": [
  {
   "cell_type": "code",
   "execution_count": 1,
   "id": "3e7f1111",
   "metadata": {},
   "outputs": [],
   "source": [
    "import pandas as pd"
   ]
  },
  {
   "cell_type": "code",
   "execution_count": 8,
   "id": "e265f5dc",
   "metadata": {},
   "outputs": [],
   "source": [
    "# Chargement des données\n",
    "data = pd.read_csv(\"data_cleaned.csv\")"
   ]
  },
  {
   "cell_type": "code",
   "execution_count": 9,
   "id": "ea3b9298",
   "metadata": {},
   "outputs": [
    {
     "data": {
      "text/html": [
       "<div>\n",
       "<style scoped>\n",
       "    .dataframe tbody tr th:only-of-type {\n",
       "        vertical-align: middle;\n",
       "    }\n",
       "\n",
       "    .dataframe tbody tr th {\n",
       "        vertical-align: top;\n",
       "    }\n",
       "\n",
       "    .dataframe thead th {\n",
       "        text-align: right;\n",
       "    }\n",
       "</style>\n",
       "<table border=\"1\" class=\"dataframe\">\n",
       "  <thead>\n",
       "    <tr style=\"text-align: right;\">\n",
       "      <th></th>\n",
       "      <th>imo_alpha_id</th>\n",
       "      <th>service_id</th>\n",
       "      <th>polygon_id</th>\n",
       "      <th>polygon_type</th>\n",
       "      <th>entry_date</th>\n",
       "      <th>out_date</th>\n",
       "      <th>entry_lat</th>\n",
       "      <th>entry_long</th>\n",
       "      <th>vsl_size</th>\n",
       "    </tr>\n",
       "  </thead>\n",
       "  <tbody>\n",
       "    <tr>\n",
       "      <th>0</th>\n",
       "      <td>9471070</td>\n",
       "      <td>1852.0</td>\n",
       "      <td>30417</td>\n",
       "      <td>terminal</td>\n",
       "      <td>2021-01-28 12:48:53</td>\n",
       "      <td>2021-01-28 22:35:59</td>\n",
       "      <td>37.4908</td>\n",
       "      <td>15.0930</td>\n",
       "      <td>0</td>\n",
       "    </tr>\n",
       "    <tr>\n",
       "      <th>1</th>\n",
       "      <td>9471070</td>\n",
       "      <td>1852.0</td>\n",
       "      <td>719</td>\n",
       "      <td>port</td>\n",
       "      <td>2021-01-30 03:59:07</td>\n",
       "      <td>2021-01-30 11:28:44</td>\n",
       "      <td>44.3907</td>\n",
       "      <td>8.9389</td>\n",
       "      <td>0</td>\n",
       "    </tr>\n",
       "    <tr>\n",
       "      <th>2</th>\n",
       "      <td>9471070</td>\n",
       "      <td>1852.0</td>\n",
       "      <td>16399</td>\n",
       "      <td>terminal</td>\n",
       "      <td>2021-01-30 04:29:08</td>\n",
       "      <td>2021-01-30 11:09:05</td>\n",
       "      <td>44.4058</td>\n",
       "      <td>8.8877</td>\n",
       "      <td>0</td>\n",
       "    </tr>\n",
       "    <tr>\n",
       "      <th>3</th>\n",
       "      <td>9471070</td>\n",
       "      <td>1852.0</td>\n",
       "      <td>2111</td>\n",
       "      <td>port</td>\n",
       "      <td>2021-01-30 16:49:19</td>\n",
       "      <td>2021-01-31 05:19:04</td>\n",
       "      <td>43.5572</td>\n",
       "      <td>10.2942</td>\n",
       "      <td>0</td>\n",
       "    </tr>\n",
       "    <tr>\n",
       "      <th>4</th>\n",
       "      <td>9471070</td>\n",
       "      <td>1852.0</td>\n",
       "      <td>16146</td>\n",
       "      <td>terminal</td>\n",
       "      <td>2021-01-30 17:08:58</td>\n",
       "      <td>2021-01-31 04:47:24</td>\n",
       "      <td>43.5797</td>\n",
       "      <td>10.3174</td>\n",
       "      <td>0</td>\n",
       "    </tr>\n",
       "  </tbody>\n",
       "</table>\n",
       "</div>"
      ],
      "text/plain": [
       "   imo_alpha_id  service_id  polygon_id polygon_type           entry_date  \\\n",
       "0       9471070      1852.0       30417     terminal  2021-01-28 12:48:53   \n",
       "1       9471070      1852.0         719         port  2021-01-30 03:59:07   \n",
       "2       9471070      1852.0       16399     terminal  2021-01-30 04:29:08   \n",
       "3       9471070      1852.0        2111         port  2021-01-30 16:49:19   \n",
       "4       9471070      1852.0       16146     terminal  2021-01-30 17:08:58   \n",
       "\n",
       "              out_date  entry_lat  entry_long  vsl_size  \n",
       "0  2021-01-28 22:35:59    37.4908     15.0930         0  \n",
       "1  2021-01-30 11:28:44    44.3907      8.9389         0  \n",
       "2  2021-01-30 11:09:05    44.4058      8.8877         0  \n",
       "3  2021-01-31 05:19:04    43.5572     10.2942         0  \n",
       "4  2021-01-31 04:47:24    43.5797     10.3174         0  "
      ]
     },
     "execution_count": 9,
     "metadata": {},
     "output_type": "execute_result"
    }
   ],
   "source": [
    "data.head()"
   ]
  },
  {
   "cell_type": "code",
   "execution_count": 16,
   "id": "3d570d63",
   "metadata": {},
   "outputs": [
    {
     "data": {
      "text/plain": [
       "0    2021-01\n",
       "1    2021-01\n",
       "2    2021-01\n",
       "3    2021-01\n",
       "4    2021-01\n",
       "Name: entry_date, dtype: period[M]"
      ]
     },
     "execution_count": 16,
     "metadata": {},
     "output_type": "execute_result"
    }
   ],
   "source": [
    "data[\"entry_date\"] = pd.to_datetime(data[\"entry_date\"])\n",
    "# Calcul des périodes\n",
    "periods = data[\"entry_date\"].dt.to_period(\"M\")\n",
    " \n",
    "periods.head()    "
   ]
  },
  {
   "cell_type": "code",
   "execution_count": 17,
   "id": "d9595b95",
   "metadata": {},
   "outputs": [],
   "source": [
    "# Fractionnement des données\n",
    "\n",
    "# Initialisation des listes pour stocker les données de formation et de test\n",
    "training_data_list = []\n",
    "test_data_list = []\n",
    "\n",
    "#  Itération sur chaque année unique\n",
    "\n",
    "for year in data[\"entry_date\"].dt.year.unique():\n",
    "    # Les données d'entraînement comprennent les 9 premiers mois de l'année\n",
    "    training_data = data[(data[\"entry_date\"].dt.year == year) & (data[\"entry_date\"].dt.month <= 9)]\n",
    "    \n",
    "    # Les données de test comprennent les 3 derniers mois de l'année\n",
    "    test_data = data[(data[\"entry_date\"].dt.year == year) & (data[\"entry_date\"].dt.month > 9)]\n",
    "    \n",
    "    \n",
    "    # Ajout des données de l'itération actuelle aux listes\n",
    "    training_data_list.append(training_data.copy())\n",
    "    test_data_list.append(test_data.copy())\n",
    "\n",
    "# Concaténation des listes en DataFrames finaux\n",
    "final_training_data = pd.concat(training_data_list, ignore_index=True)\n",
    "final_test_data = pd.concat(test_data_list, ignore_index=True)\n"
   ]
  },
  {
   "cell_type": "code",
   "execution_count": 18,
   "id": "0048caa1",
   "metadata": {},
   "outputs": [],
   "source": [
    "# Sauvegarde des ensembles d'entraînement et de test dans des fichiers CSV\n",
    "\n",
    "final_training_data.to_csv('final_training_data.csv', index=False)\n",
    "final_test_data.to_csv('final_test_data.csv', index=False)\n"
   ]
  },
  {
   "cell_type": "code",
   "execution_count": null,
   "id": "f3c97a06",
   "metadata": {},
   "outputs": [],
   "source": []
  },
  {
   "cell_type": "code",
   "execution_count": null,
   "id": "26272579",
   "metadata": {},
   "outputs": [],
   "source": []
  },
  {
   "cell_type": "code",
   "execution_count": null,
   "id": "fd5da490",
   "metadata": {},
   "outputs": [],
   "source": []
  },
  {
   "cell_type": "code",
   "execution_count": null,
   "id": "db3274d1",
   "metadata": {},
   "outputs": [],
   "source": []
  }
 ],
 "metadata": {
  "kernelspec": {
   "display_name": "Python 3 (ipykernel)",
   "language": "python",
   "name": "python3"
  },
  "language_info": {
   "codemirror_mode": {
    "name": "ipython",
    "version": 3
   },
   "file_extension": ".py",
   "mimetype": "text/x-python",
   "name": "python",
   "nbconvert_exporter": "python",
   "pygments_lexer": "ipython3",
   "version": "3.10.9"
  }
 },
 "nbformat": 4,
 "nbformat_minor": 5
}

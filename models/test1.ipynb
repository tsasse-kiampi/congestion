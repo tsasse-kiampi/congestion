{
 "cells": [
  {
   "cell_type": "code",
   "execution_count": 2,
   "metadata": {},
   "outputs": [
    {
     "name": "stdout",
     "output_type": "stream",
     "text": [
      "Batch x shape: torch.Size([7, 5])\n",
      "Batch edge_index shape: torch.Size([2, 7])\n",
      "tensor([0, 0, 0, 0, 1, 1, 1])\n"
     ]
    }
   ],
   "source": [
    "import torch\n",
    "from torch_geometric.data import Data, Batch\n",
    "\n",
    "# Example graphs\n",
    "graph1 = Data(x=torch.randn(4, 5), edge_index=torch.tensor([[0, 1, 1, 2], [1, 0, 2, 1]]))\n",
    "graph2 = Data(x=torch.randn(3, 5), edge_index=torch.tensor([[0, 1, 2], [1, 0, 1]]))\n",
    "\n",
    "# Batch the graphs\n",
    "batch = Batch.from_data_list([graph1, graph2])\n",
    "\n",
    "# Accessing batch attributes\n",
    "print(\"Batch x shape:\", batch.x.shape)  # Shape: [total_nodes, node_features]\n",
    "print(\"Batch edge_index shape:\", batch.edge_index.shape)  # Shape: [2, total_edges]\n",
    "print(batch.batch)"
   ]
  },
  {
   "cell_type": "code",
   "execution_count": null,
   "metadata": {},
   "outputs": [],
   "source": []
  }
 ],
 "metadata": {
  "kernelspec": {
   "display_name": "venv",
   "language": "python",
   "name": "python3"
  },
  "language_info": {
   "codemirror_mode": {
    "name": "ipython",
    "version": 3
   },
   "file_extension": ".py",
   "mimetype": "text/x-python",
   "name": "python",
   "nbconvert_exporter": "python",
   "pygments_lexer": "ipython3",
   "version": "3.10.9"
  }
 },
 "nbformat": 4,
 "nbformat_minor": 2
}

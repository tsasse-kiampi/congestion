{
 "cells": [
  {
   "cell_type": "code",
   "execution_count": 5,
   "metadata": {},
   "outputs": [
    {
     "ename": "ModuleNotFoundError",
     "evalue": "No module named 'parameters'",
     "output_type": "error",
     "traceback": [
      "\u001b[0;31m---------------------------------------------------------------------------\u001b[0m",
      "\u001b[0;31mModuleNotFoundError\u001b[0m                       Traceback (most recent call last)",
      "\u001b[1;32m/Users/isaigordeev/Desktop/congestion/models/test.ipynb Cell 1\u001b[0m line \u001b[0;36m1\n\u001b[0;32m----> <a href='vscode-notebook-cell:/Users/isaigordeev/Desktop/congestion/models/test.ipynb#W0sZmlsZQ%3D%3D?line=0'>1</a>\u001b[0m \u001b[39mfrom\u001b[39;00m \u001b[39mmodel\u001b[39;00m \u001b[39mimport\u001b[39;00m CongestionLearnableEmbedding, CongestionWrapperEncoder\n\u001b[1;32m      <a href='vscode-notebook-cell:/Users/isaigordeev/Desktop/congestion/models/test.ipynb#W0sZmlsZQ%3D%3D?line=1'>2</a>\u001b[0m \u001b[39mimport\u001b[39;00m \u001b[39mtorch\u001b[39;00m\n\u001b[1;32m      <a href='vscode-notebook-cell:/Users/isaigordeev/Desktop/congestion/models/test.ipynb#W0sZmlsZQ%3D%3D?line=3'>4</a>\u001b[0m cong \u001b[39m=\u001b[39m torch\u001b[39m.\u001b[39mrandn(\u001b[39m10\u001b[39m, \u001b[39m1\u001b[39m)\n",
      "File \u001b[0;32m~/Desktop/congestion/models/model.py:6\u001b[0m\n\u001b[1;32m      4\u001b[0m \u001b[39mfrom\u001b[39;00m \u001b[39mtorch_geometric\u001b[39;00m\u001b[39m.\u001b[39;00m\u001b[39mnn\u001b[39;00m \u001b[39mimport\u001b[39;00m GATConv\n\u001b[1;32m      5\u001b[0m \u001b[39mfrom\u001b[39;00m \u001b[39mtorch_geometric\u001b[39;00m\u001b[39m.\u001b[39;00m\u001b[39mdata\u001b[39;00m \u001b[39mimport\u001b[39;00m Data\n\u001b[0;32m----> 6\u001b[0m \u001b[39mfrom\u001b[39;00m \u001b[39mparameters\u001b[39;00m \u001b[39mimport\u001b[39;00m DIM, ATTENTION_BLOCKS, CONGESTION_EMBEDDING_DIM, MAX_CONGESTION_DIM, DEFAULT_TERMINAL_NUMBER, MAX_CONGESTION, ATTENTION_HEADS, DROPOUT\n\u001b[1;32m      8\u001b[0m \u001b[39mdef\u001b[39;00m \u001b[39mcongestion_to_index\u001b[39m(congestion): \u001b[39m#TODO maybe indices are precalculated in dataloader?\u001b[39;00m\n\u001b[1;32m      9\u001b[0m     \u001b[39mreturn\u001b[39;00m MAX_CONGESTION_DIM\u001b[39m*\u001b[39m\u001b[39mround\u001b[39m(congestion)\u001b[39m/\u001b[39mMAX_CONGESTION\n",
      "\u001b[0;31mModuleNotFoundError\u001b[0m: No module named 'parameters'"
     ]
    }
   ],
   "source": [
    "from model import CongestionLearnableEmbedding, CongestionWrapperEncoder\n",
    "import torch\n",
    "\n",
    "cong = torch.randn(10, 1)\n",
    "\n",
    "x = CongestionWrapperEncoder(CongestionLearnableEmbedding, torch.randn(10, 1), )\n"
   ]
  },
  {
   "cell_type": "code",
   "execution_count": 6,
   "metadata": {},
   "outputs": [
    {
     "name": "stdout",
     "output_type": "stream",
     "text": [
      "Random Adjacency Matrix:\n",
      "tensor([[0., 1., 0., 1., 0., 0., 0., 0., 1., 1.],\n",
      "        [0., 0., 0., 0., 1., 0., 1., 0., 1., 0.],\n",
      "        [0., 1., 0., 0., 0., 0., 0., 1., 0., 0.],\n",
      "        [0., 0., 0., 0., 1., 0., 1., 0., 0., 0.],\n",
      "        [0., 0., 0., 0., 0., 1., 0., 0., 0., 1.],\n",
      "        [0., 0., 0., 0., 0., 0., 0., 0., 0., 0.],\n",
      "        [1., 1., 1., 0., 0., 1., 0., 0., 0., 0.],\n",
      "        [0., 0., 0., 1., 0., 1., 1., 0., 1., 0.],\n",
      "        [0., 0., 0., 0., 0., 1., 0., 0., 0., 0.],\n",
      "        [1., 0., 1., 0., 0., 1., 0., 0., 0., 0.]])\n"
     ]
    }
   ],
   "source": [
    "import torch\n",
    "import torch.nn.functional as F\n",
    "\n",
    "num_nodes = 10\n",
    "\n",
    "sparsity = 0.3\n",
    "\n",
    "adjacency_matrix = torch.rand(num_nodes, num_nodes)\n",
    "adjacency_matrix = (adjacency_matrix < sparsity).float()\n",
    "\n",
    "\n",
    "adjacency_matrix = adjacency_matrix * (1 - torch.eye(num_nodes))\n",
    "\n",
    "print(\"Random Adjacency Matrix:\")\n",
    "print(adjacency_matrix)"
   ]
  },
  {
   "cell_type": "code",
   "execution_count": 10,
   "metadata": {},
   "outputs": [
    {
     "name": "stdout",
     "output_type": "stream",
     "text": [
      "tensor([[[0., 1., 0., 1., 0., 0., 0., 0., 1., 1.],\n",
      "         [0., 0., 0., 0., 1., 0., 1., 0., 1., 0.],\n",
      "         [0., 1., 0., 0., 0., 0., 0., 1., 0., 0.],\n",
      "         [0., 0., 0., 0., 1., 0., 1., 0., 0., 0.],\n",
      "         [0., 0., 0., 0., 0., 1., 0., 0., 0., 1.],\n",
      "         [0., 0., 0., 0., 0., 0., 0., 0., 0., 0.],\n",
      "         [1., 1., 1., 0., 0., 1., 0., 0., 0., 0.],\n",
      "         [0., 0., 0., 1., 0., 1., 1., 0., 1., 0.],\n",
      "         [0., 0., 0., 0., 0., 1., 0., 0., 0., 0.],\n",
      "         [1., 0., 1., 0., 0., 1., 0., 0., 0., 0.]],\n",
      "\n",
      "        [[0., 1., 0., 1., 0., 0., 0., 0., 1., 1.],\n",
      "         [0., 0., 0., 0., 1., 0., 1., 0., 1., 0.],\n",
      "         [0., 1., 0., 0., 0., 0., 0., 1., 0., 0.],\n",
      "         [0., 0., 0., 0., 1., 0., 1., 0., 0., 0.],\n",
      "         [0., 0., 0., 0., 0., 1., 0., 0., 0., 1.],\n",
      "         [0., 0., 0., 0., 0., 0., 0., 0., 0., 0.],\n",
      "         [1., 1., 1., 0., 0., 1., 0., 0., 0., 0.],\n",
      "         [0., 0., 0., 1., 0., 1., 1., 0., 1., 0.],\n",
      "         [0., 0., 0., 0., 0., 1., 0., 0., 0., 0.],\n",
      "         [1., 0., 1., 0., 0., 1., 0., 0., 0., 0.]],\n",
      "\n",
      "        [[0., 1., 0., 1., 0., 0., 0., 0., 1., 1.],\n",
      "         [0., 0., 0., 0., 1., 0., 1., 0., 1., 0.],\n",
      "         [0., 1., 0., 0., 0., 0., 0., 1., 0., 0.],\n",
      "         [0., 0., 0., 0., 1., 0., 1., 0., 0., 0.],\n",
      "         [0., 0., 0., 0., 0., 1., 0., 0., 0., 1.],\n",
      "         [0., 0., 0., 0., 0., 0., 0., 0., 0., 0.],\n",
      "         [1., 1., 1., 0., 0., 1., 0., 0., 0., 0.],\n",
      "         [0., 0., 0., 1., 0., 1., 1., 0., 1., 0.],\n",
      "         [0., 0., 0., 0., 0., 1., 0., 0., 0., 0.],\n",
      "         [1., 0., 1., 0., 0., 1., 0., 0., 0., 0.]]])\n"
     ]
    },
    {
     "ename": "AssertionError",
     "evalue": "Static graphs not supported in 'GATConv'",
     "output_type": "error",
     "traceback": [
      "\u001b[0;31m---------------------------------------------------------------------------\u001b[0m",
      "\u001b[0;31mAssertionError\u001b[0m                            Traceback (most recent call last)",
      "\u001b[1;32m/Users/isaigordeev/Desktop/congestion/models/test.ipynb Cell 3\u001b[0m line \u001b[0;36m2\n\u001b[1;32m     <a href='vscode-notebook-cell:/Users/isaigordeev/Desktop/congestion/models/test.ipynb#W2sZmlsZQ%3D%3D?line=16'>17</a>\u001b[0m num_heads \u001b[39m=\u001b[39m \u001b[39m2\u001b[39m\n\u001b[1;32m     <a href='vscode-notebook-cell:/Users/isaigordeev/Desktop/congestion/models/test.ipynb#W2sZmlsZQ%3D%3D?line=18'>19</a>\u001b[0m gat_layer \u001b[39m=\u001b[39m GATConv(in_channels, out_channels, heads\u001b[39m=\u001b[39mnum_heads)\n\u001b[0;32m---> <a href='vscode-notebook-cell:/Users/isaigordeev/Desktop/congestion/models/test.ipynb#W2sZmlsZQ%3D%3D?line=20'>21</a>\u001b[0m output_tensor \u001b[39m=\u001b[39m gat_layer(x, edge_index)\n\u001b[1;32m     <a href='vscode-notebook-cell:/Users/isaigordeev/Desktop/congestion/models/test.ipynb#W2sZmlsZQ%3D%3D?line=22'>23</a>\u001b[0m \u001b[39mprint\u001b[39m(\u001b[39m\"\u001b[39m\u001b[39mShape of output_tensor:\u001b[39m\u001b[39m\"\u001b[39m, output_tensor\u001b[39m.\u001b[39mshape)\n",
      "File \u001b[0;32m~/Desktop/congestion/venv/lib/python3.10/site-packages/torch/nn/modules/module.py:1518\u001b[0m, in \u001b[0;36mModule._wrapped_call_impl\u001b[0;34m(self, *args, **kwargs)\u001b[0m\n\u001b[1;32m   1516\u001b[0m     \u001b[39mreturn\u001b[39;00m \u001b[39mself\u001b[39m\u001b[39m.\u001b[39m_compiled_call_impl(\u001b[39m*\u001b[39margs, \u001b[39m*\u001b[39m\u001b[39m*\u001b[39mkwargs)  \u001b[39m# type: ignore[misc]\u001b[39;00m\n\u001b[1;32m   1517\u001b[0m \u001b[39melse\u001b[39;00m:\n\u001b[0;32m-> 1518\u001b[0m     \u001b[39mreturn\u001b[39;00m \u001b[39mself\u001b[39;49m\u001b[39m.\u001b[39;49m_call_impl(\u001b[39m*\u001b[39;49margs, \u001b[39m*\u001b[39;49m\u001b[39m*\u001b[39;49mkwargs)\n",
      "File \u001b[0;32m~/Desktop/congestion/venv/lib/python3.10/site-packages/torch/nn/modules/module.py:1527\u001b[0m, in \u001b[0;36mModule._call_impl\u001b[0;34m(self, *args, **kwargs)\u001b[0m\n\u001b[1;32m   1522\u001b[0m \u001b[39m# If we don't have any hooks, we want to skip the rest of the logic in\u001b[39;00m\n\u001b[1;32m   1523\u001b[0m \u001b[39m# this function, and just call forward.\u001b[39;00m\n\u001b[1;32m   1524\u001b[0m \u001b[39mif\u001b[39;00m \u001b[39mnot\u001b[39;00m (\u001b[39mself\u001b[39m\u001b[39m.\u001b[39m_backward_hooks \u001b[39mor\u001b[39;00m \u001b[39mself\u001b[39m\u001b[39m.\u001b[39m_backward_pre_hooks \u001b[39mor\u001b[39;00m \u001b[39mself\u001b[39m\u001b[39m.\u001b[39m_forward_hooks \u001b[39mor\u001b[39;00m \u001b[39mself\u001b[39m\u001b[39m.\u001b[39m_forward_pre_hooks\n\u001b[1;32m   1525\u001b[0m         \u001b[39mor\u001b[39;00m _global_backward_pre_hooks \u001b[39mor\u001b[39;00m _global_backward_hooks\n\u001b[1;32m   1526\u001b[0m         \u001b[39mor\u001b[39;00m _global_forward_hooks \u001b[39mor\u001b[39;00m _global_forward_pre_hooks):\n\u001b[0;32m-> 1527\u001b[0m     \u001b[39mreturn\u001b[39;00m forward_call(\u001b[39m*\u001b[39;49margs, \u001b[39m*\u001b[39;49m\u001b[39m*\u001b[39;49mkwargs)\n\u001b[1;32m   1529\u001b[0m \u001b[39mtry\u001b[39;00m:\n\u001b[1;32m   1530\u001b[0m     result \u001b[39m=\u001b[39m \u001b[39mNone\u001b[39;00m\n",
      "File \u001b[0;32m~/Desktop/congestion/venv/lib/python3.10/site-packages/torch_geometric/nn/conv/gat_conv.py:212\u001b[0m, in \u001b[0;36mGATConv.forward\u001b[0;34m(self, x, edge_index, edge_attr, size, return_attention_weights)\u001b[0m\n\u001b[1;32m    209\u001b[0m \u001b[39m# We first transform the input node features. If a tuple is passed, we\u001b[39;00m\n\u001b[1;32m    210\u001b[0m \u001b[39m# transform source and target node features via separate weights:\u001b[39;00m\n\u001b[1;32m    211\u001b[0m \u001b[39mif\u001b[39;00m \u001b[39misinstance\u001b[39m(x, Tensor):\n\u001b[0;32m--> 212\u001b[0m     \u001b[39massert\u001b[39;00m x\u001b[39m.\u001b[39mdim() \u001b[39m==\u001b[39m \u001b[39m2\u001b[39m, \u001b[39m\"\u001b[39m\u001b[39mStatic graphs not supported in \u001b[39m\u001b[39m'\u001b[39m\u001b[39mGATConv\u001b[39m\u001b[39m'\u001b[39m\u001b[39m\"\u001b[39m\n\u001b[1;32m    213\u001b[0m     x_src \u001b[39m=\u001b[39m x_dst \u001b[39m=\u001b[39m \u001b[39mself\u001b[39m\u001b[39m.\u001b[39mlin_src(x)\u001b[39m.\u001b[39mview(\u001b[39m-\u001b[39m\u001b[39m1\u001b[39m, H, C)\n\u001b[1;32m    214\u001b[0m \u001b[39melse\u001b[39;00m:  \u001b[39m# Tuple of source and target node features:\u001b[39;00m\n",
      "\u001b[0;31mAssertionError\u001b[0m: Static graphs not supported in 'GATConv'"
     ]
    }
   ],
   "source": [
    "import torch\n",
    "from torch_geometric.nn import GATConv\n",
    "\n",
    "\n",
    "batch_size = 3\n",
    "num_nodes = 10\n",
    "num_features = 16\n",
    "\n",
    "x = torch.randn(batch_size, num_nodes, num_features)\n",
    "\n",
    "# edge_index = torch.randint(0, num_nodes, (2, num_nodes * 3))\n",
    "edge_index = torch.stack([adjacency_matrix for x in range(3)])\n",
    "print(edge_index)\n",
    "\n",
    "in_channels = num_features\n",
    "out_channels = 8\n",
    "num_heads = 2\n",
    "\n",
    "gat_layer = GATConv(in_channels, out_channels, heads=num_heads)\n",
    "\n",
    "output_tensor = gat_layer(x, edge_index)\n",
    "\n",
    "print(\"Shape of output_tensor:\", output_tensor.shape)"
   ]
  },
  {
   "cell_type": "code",
   "execution_count": 11,
   "metadata": {},
   "outputs": [
    {
     "name": "stdout",
     "output_type": "stream",
     "text": [
      "tensor([[ 1.1303, -0.0318,  1.9701,  0.0700,  0.3179,  0.9592, -0.6862,  0.0443,\n",
      "          0.0000,  0.0000,  0.0000,  0.0000,  0.0000,  0.0000,  0.0000,  0.0000],\n",
      "        [ 0.0000,  0.0000,  0.0000,  0.0000,  0.0000,  0.0000,  0.0000,  0.0000,\n",
      "          0.2974,  0.1202,  0.3389, -0.5510,  0.0355,  0.0388,  0.5925,  0.1925],\n",
      "        [ 1.8897, -0.7915,  3.3366,  0.5900, -0.2979,  1.6662, -1.6858,  0.4432,\n",
      "          0.7429,  0.0752,  0.2040, -0.7052,  0.4324, -0.2763,  1.1395,  0.6563]],\n",
      "       grad_fn=<AddBackward0>)\n"
     ]
    }
   ],
   "source": [
    "import torch\n",
    "import torch.nn as nn\n",
    "from torch_geometric.nn import GATConv\n",
    "from torch_geometric.data import Data\n",
    "\n",
    "\n",
    "edge_index = torch.tensor([[0, 1, 1, 2], [1, 0, 2, 1]], dtype=torch.long)\n",
    "x = torch.rand(3, 16)  \n",
    "\n",
    "data = Data(x=x, edge_index=edge_index)\n",
    "\n",
    "\n",
    "class GraphAttentionLayer(nn.Module):\n",
    "    def __init__(self, in_channels, out_channels, heads=1, dropout=0.6):\n",
    "        super().__init__()\n",
    "        self.gat_conv = GATConv(in_channels, out_channels, heads=heads, dropout=dropout)\n",
    "\n",
    "    def forward(self, data):\n",
    "        x = self.gat_conv(data.x, data.edge_index)\n",
    "        return x\n",
    "\n",
    "\n",
    "input_features = 16\n",
    "output_features = 8\n",
    "num_heads = 2\n",
    "\n",
    "graph_attention_layer = GraphAttentionLayer(input_features, output_features, heads=num_heads)\n",
    "\n",
    "output = graph_attention_layer(data)\n",
    "\n",
    "print(output)"
   ]
  },
  {
   "cell_type": "code",
   "execution_count": 12,
   "metadata": {},
   "outputs": [
    {
     "ename": "AssertionError",
     "evalue": "Static graphs not supported in 'GATConv'",
     "output_type": "error",
     "traceback": [
      "\u001b[0;31m---------------------------------------------------------------------------\u001b[0m",
      "\u001b[0;31mAssertionError\u001b[0m                            Traceback (most recent call last)",
      "\u001b[1;32m/Users/isaigordeev/Desktop/congestion/models/test.ipynb Cell 5\u001b[0m line \u001b[0;36m3\n\u001b[1;32m     <a href='vscode-notebook-cell:/Users/isaigordeev/Desktop/congestion/models/test.ipynb#W4sZmlsZQ%3D%3D?line=28'>29</a>\u001b[0m graph_attention_layer \u001b[39m=\u001b[39m GraphAttentionLayer(input_features, output_features, heads\u001b[39m=\u001b[39mnum_heads)\n\u001b[1;32m     <a href='vscode-notebook-cell:/Users/isaigordeev/Desktop/congestion/models/test.ipynb#W4sZmlsZQ%3D%3D?line=30'>31</a>\u001b[0m \u001b[39m# Forward pass through the GAT layer for the entire batch\u001b[39;00m\n\u001b[0;32m---> <a href='vscode-notebook-cell:/Users/isaigordeev/Desktop/congestion/models/test.ipynb#W4sZmlsZQ%3D%3D?line=31'>32</a>\u001b[0m output \u001b[39m=\u001b[39m graph_attention_layer(data)\n\u001b[1;32m     <a href='vscode-notebook-cell:/Users/isaigordeev/Desktop/congestion/models/test.ipynb#W4sZmlsZQ%3D%3D?line=33'>34</a>\u001b[0m \u001b[39mprint\u001b[39m(output)\n",
      "File \u001b[0;32m~/Desktop/congestion/venv/lib/python3.10/site-packages/torch/nn/modules/module.py:1518\u001b[0m, in \u001b[0;36mModule._wrapped_call_impl\u001b[0;34m(self, *args, **kwargs)\u001b[0m\n\u001b[1;32m   1516\u001b[0m     \u001b[39mreturn\u001b[39;00m \u001b[39mself\u001b[39m\u001b[39m.\u001b[39m_compiled_call_impl(\u001b[39m*\u001b[39margs, \u001b[39m*\u001b[39m\u001b[39m*\u001b[39mkwargs)  \u001b[39m# type: ignore[misc]\u001b[39;00m\n\u001b[1;32m   1517\u001b[0m \u001b[39melse\u001b[39;00m:\n\u001b[0;32m-> 1518\u001b[0m     \u001b[39mreturn\u001b[39;00m \u001b[39mself\u001b[39;49m\u001b[39m.\u001b[39;49m_call_impl(\u001b[39m*\u001b[39;49margs, \u001b[39m*\u001b[39;49m\u001b[39m*\u001b[39;49mkwargs)\n",
      "File \u001b[0;32m~/Desktop/congestion/venv/lib/python3.10/site-packages/torch/nn/modules/module.py:1527\u001b[0m, in \u001b[0;36mModule._call_impl\u001b[0;34m(self, *args, **kwargs)\u001b[0m\n\u001b[1;32m   1522\u001b[0m \u001b[39m# If we don't have any hooks, we want to skip the rest of the logic in\u001b[39;00m\n\u001b[1;32m   1523\u001b[0m \u001b[39m# this function, and just call forward.\u001b[39;00m\n\u001b[1;32m   1524\u001b[0m \u001b[39mif\u001b[39;00m \u001b[39mnot\u001b[39;00m (\u001b[39mself\u001b[39m\u001b[39m.\u001b[39m_backward_hooks \u001b[39mor\u001b[39;00m \u001b[39mself\u001b[39m\u001b[39m.\u001b[39m_backward_pre_hooks \u001b[39mor\u001b[39;00m \u001b[39mself\u001b[39m\u001b[39m.\u001b[39m_forward_hooks \u001b[39mor\u001b[39;00m \u001b[39mself\u001b[39m\u001b[39m.\u001b[39m_forward_pre_hooks\n\u001b[1;32m   1525\u001b[0m         \u001b[39mor\u001b[39;00m _global_backward_pre_hooks \u001b[39mor\u001b[39;00m _global_backward_hooks\n\u001b[1;32m   1526\u001b[0m         \u001b[39mor\u001b[39;00m _global_forward_hooks \u001b[39mor\u001b[39;00m _global_forward_pre_hooks):\n\u001b[0;32m-> 1527\u001b[0m     \u001b[39mreturn\u001b[39;00m forward_call(\u001b[39m*\u001b[39;49margs, \u001b[39m*\u001b[39;49m\u001b[39m*\u001b[39;49mkwargs)\n\u001b[1;32m   1529\u001b[0m \u001b[39mtry\u001b[39;00m:\n\u001b[1;32m   1530\u001b[0m     result \u001b[39m=\u001b[39m \u001b[39mNone\u001b[39;00m\n",
      "\u001b[1;32m/Users/isaigordeev/Desktop/congestion/models/test.ipynb Cell 5\u001b[0m line \u001b[0;36m2\n\u001b[1;32m     <a href='vscode-notebook-cell:/Users/isaigordeev/Desktop/congestion/models/test.ipynb#W4sZmlsZQ%3D%3D?line=20'>21</a>\u001b[0m \u001b[39mdef\u001b[39;00m \u001b[39mforward\u001b[39m(\u001b[39mself\u001b[39m, data):\n\u001b[0;32m---> <a href='vscode-notebook-cell:/Users/isaigordeev/Desktop/congestion/models/test.ipynb#W4sZmlsZQ%3D%3D?line=21'>22</a>\u001b[0m     x \u001b[39m=\u001b[39m \u001b[39mself\u001b[39;49m\u001b[39m.\u001b[39;49mgat_conv(data\u001b[39m.\u001b[39;49mx, data\u001b[39m.\u001b[39;49medge_index)\n\u001b[1;32m     <a href='vscode-notebook-cell:/Users/isaigordeev/Desktop/congestion/models/test.ipynb#W4sZmlsZQ%3D%3D?line=22'>23</a>\u001b[0m     \u001b[39mreturn\u001b[39;00m x\n",
      "File \u001b[0;32m~/Desktop/congestion/venv/lib/python3.10/site-packages/torch/nn/modules/module.py:1518\u001b[0m, in \u001b[0;36mModule._wrapped_call_impl\u001b[0;34m(self, *args, **kwargs)\u001b[0m\n\u001b[1;32m   1516\u001b[0m     \u001b[39mreturn\u001b[39;00m \u001b[39mself\u001b[39m\u001b[39m.\u001b[39m_compiled_call_impl(\u001b[39m*\u001b[39margs, \u001b[39m*\u001b[39m\u001b[39m*\u001b[39mkwargs)  \u001b[39m# type: ignore[misc]\u001b[39;00m\n\u001b[1;32m   1517\u001b[0m \u001b[39melse\u001b[39;00m:\n\u001b[0;32m-> 1518\u001b[0m     \u001b[39mreturn\u001b[39;00m \u001b[39mself\u001b[39;49m\u001b[39m.\u001b[39;49m_call_impl(\u001b[39m*\u001b[39;49margs, \u001b[39m*\u001b[39;49m\u001b[39m*\u001b[39;49mkwargs)\n",
      "File \u001b[0;32m~/Desktop/congestion/venv/lib/python3.10/site-packages/torch/nn/modules/module.py:1527\u001b[0m, in \u001b[0;36mModule._call_impl\u001b[0;34m(self, *args, **kwargs)\u001b[0m\n\u001b[1;32m   1522\u001b[0m \u001b[39m# If we don't have any hooks, we want to skip the rest of the logic in\u001b[39;00m\n\u001b[1;32m   1523\u001b[0m \u001b[39m# this function, and just call forward.\u001b[39;00m\n\u001b[1;32m   1524\u001b[0m \u001b[39mif\u001b[39;00m \u001b[39mnot\u001b[39;00m (\u001b[39mself\u001b[39m\u001b[39m.\u001b[39m_backward_hooks \u001b[39mor\u001b[39;00m \u001b[39mself\u001b[39m\u001b[39m.\u001b[39m_backward_pre_hooks \u001b[39mor\u001b[39;00m \u001b[39mself\u001b[39m\u001b[39m.\u001b[39m_forward_hooks \u001b[39mor\u001b[39;00m \u001b[39mself\u001b[39m\u001b[39m.\u001b[39m_forward_pre_hooks\n\u001b[1;32m   1525\u001b[0m         \u001b[39mor\u001b[39;00m _global_backward_pre_hooks \u001b[39mor\u001b[39;00m _global_backward_hooks\n\u001b[1;32m   1526\u001b[0m         \u001b[39mor\u001b[39;00m _global_forward_hooks \u001b[39mor\u001b[39;00m _global_forward_pre_hooks):\n\u001b[0;32m-> 1527\u001b[0m     \u001b[39mreturn\u001b[39;00m forward_call(\u001b[39m*\u001b[39;49margs, \u001b[39m*\u001b[39;49m\u001b[39m*\u001b[39;49mkwargs)\n\u001b[1;32m   1529\u001b[0m \u001b[39mtry\u001b[39;00m:\n\u001b[1;32m   1530\u001b[0m     result \u001b[39m=\u001b[39m \u001b[39mNone\u001b[39;00m\n",
      "File \u001b[0;32m~/Desktop/congestion/venv/lib/python3.10/site-packages/torch_geometric/nn/conv/gat_conv.py:212\u001b[0m, in \u001b[0;36mGATConv.forward\u001b[0;34m(self, x, edge_index, edge_attr, size, return_attention_weights)\u001b[0m\n\u001b[1;32m    209\u001b[0m \u001b[39m# We first transform the input node features. If a tuple is passed, we\u001b[39;00m\n\u001b[1;32m    210\u001b[0m \u001b[39m# transform source and target node features via separate weights:\u001b[39;00m\n\u001b[1;32m    211\u001b[0m \u001b[39mif\u001b[39;00m \u001b[39misinstance\u001b[39m(x, Tensor):\n\u001b[0;32m--> 212\u001b[0m     \u001b[39massert\u001b[39;00m x\u001b[39m.\u001b[39mdim() \u001b[39m==\u001b[39m \u001b[39m2\u001b[39m, \u001b[39m\"\u001b[39m\u001b[39mStatic graphs not supported in \u001b[39m\u001b[39m'\u001b[39m\u001b[39mGATConv\u001b[39m\u001b[39m'\u001b[39m\u001b[39m\"\u001b[39m\n\u001b[1;32m    213\u001b[0m     x_src \u001b[39m=\u001b[39m x_dst \u001b[39m=\u001b[39m \u001b[39mself\u001b[39m\u001b[39m.\u001b[39mlin_src(x)\u001b[39m.\u001b[39mview(\u001b[39m-\u001b[39m\u001b[39m1\u001b[39m, H, C)\n\u001b[1;32m    214\u001b[0m \u001b[39melse\u001b[39;00m:  \u001b[39m# Tuple of source and target node features:\u001b[39;00m\n",
      "\u001b[0;31mAssertionError\u001b[0m: Static graphs not supported in 'GATConv'"
     ]
    }
   ],
   "source": [
    "import torch\n",
    "import torch.nn as nn\n",
    "from torch_geometric.nn import GATConv\n",
    "from torch_geometric.data import Data\n",
    "\n",
    "# Example: Batch of graphs with 3 graphs, each having 4 nodes and 16 features per node\n",
    "batch_size = 3\n",
    "num_nodes = 4\n",
    "num_features = 16\n",
    "\n",
    "edge_index = torch.tensor([[0, 1, 1, 2], [1, 0, 2, 1]], dtype=torch.long)\n",
    "x = torch.rand(batch_size, num_nodes, num_features)\n",
    "\n",
    "data = Data(x=x, edge_index=edge_index)\n",
    "\n",
    "class GraphAttentionLayer(nn.Module):\n",
    "    def __init__(self, in_channels, out_channels, heads=1, dropout=0.6):\n",
    "        super().__init__()\n",
    "        self.gat_conv = GATConv(in_channels, out_channels, heads=heads, dropout=dropout)\n",
    "\n",
    "    def forward(self, data):\n",
    "        x = self.gat_conv(data.x, data.edge_index)\n",
    "        return x\n",
    "\n",
    "input_features = 16\n",
    "output_features = 8\n",
    "num_heads = 2\n",
    "\n",
    "graph_attention_layer = GraphAttentionLayer(input_features, output_features, heads=num_heads)\n",
    "\n",
    "# Forward pass through the GAT layer for the entire batch\n",
    "output = graph_attention_layer(data)\n",
    "\n",
    "print(output)\n"
   ]
  },
  {
   "cell_type": "code",
   "execution_count": null,
   "metadata": {},
   "outputs": [],
   "source": []
  }
 ],
 "metadata": {
  "kernelspec": {
   "display_name": "venv",
   "language": "python",
   "name": "python3"
  },
  "language_info": {
   "codemirror_mode": {
    "name": "ipython",
    "version": 3
   },
   "file_extension": ".py",
   "mimetype": "text/x-python",
   "name": "python",
   "nbconvert_exporter": "python",
   "pygments_lexer": "ipython3",
   "version": "3.10.9"
  }
 },
 "nbformat": 4,
 "nbformat_minor": 2
}

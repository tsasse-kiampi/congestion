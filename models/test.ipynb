{
 "cells": [
  {
   "cell_type": "code",
   "execution_count": 3,
   "metadata": {},
   "outputs": [
    {
     "name": "stdout",
     "output_type": "stream",
     "text": [
      "Random Adjacency Matrix:\n",
      "tensor([[0., 1., 0., 1., 0., 0., 0., 0., 0., 1.],\n",
      "        [0., 0., 1., 0., 0., 0., 0., 0., 0., 0.],\n",
      "        [0., 0., 0., 0., 0., 0., 0., 0., 0., 0.],\n",
      "        [0., 1., 0., 0., 0., 1., 0., 1., 1., 0.],\n",
      "        [0., 1., 0., 0., 0., 1., 1., 0., 0., 0.],\n",
      "        [1., 0., 1., 1., 0., 0., 0., 0., 0., 1.],\n",
      "        [1., 0., 1., 1., 1., 1., 0., 0., 0., 0.],\n",
      "        [0., 1., 0., 1., 0., 0., 0., 0., 0., 0.],\n",
      "        [0., 1., 1., 0., 1., 0., 0., 0., 0., 1.],\n",
      "        [1., 0., 1., 0., 0., 1., 1., 1., 1., 0.]])\n"
     ]
    }
   ],
   "source": [
    "import torch\n",
    "import torch.nn.functional as F\n",
    "\n",
    "num_nodes = 10\n",
    "\n",
    "sparsity = 0.3\n",
    "\n",
    "adjacency_matrix = torch.rand(num_nodes, num_nodes)\n",
    "adjacency_matrix = (adjacency_matrix < sparsity).float()\n",
    "\n",
    "\n",
    "adjacency_matrix = adjacency_matrix * (1 - torch.eye(num_nodes))\n",
    "\n",
    "print(\"Random Adjacency Matrix:\")\n",
    "print(adjacency_matrix)"
   ]
  },
  {
   "cell_type": "code",
   "execution_count": 18,
   "metadata": {},
   "outputs": [
    {
     "ename": "ImportError",
     "evalue": "cannot import name 'CongestionLearnableEmbedding' from 'model' (/Users/isaigordeev/Desktop/congestion/models/model.py)",
     "output_type": "error",
     "traceback": [
      "\u001b[0;31m---------------------------------------------------------------------------\u001b[0m",
      "\u001b[0;31mImportError\u001b[0m                               Traceback (most recent call last)",
      "Cell \u001b[0;32mIn[18], line 1\u001b[0m\n\u001b[0;32m----> 1\u001b[0m \u001b[38;5;28;01mfrom\u001b[39;00m \u001b[38;5;21;01mmodel\u001b[39;00m \u001b[38;5;28;01mimport\u001b[39;00m CongestionLearnableEmbedding, CongestionWrapperEncoder, CustomLearnableEmbedding\n\u001b[1;32m      2\u001b[0m \u001b[38;5;28;01mimport\u001b[39;00m \u001b[38;5;21;01mtorch\u001b[39;00m\n\u001b[1;32m      3\u001b[0m \u001b[38;5;28;01mfrom\u001b[39;00m \u001b[38;5;21;01mparameters\u001b[39;00m \u001b[38;5;28;01mimport\u001b[39;00m CONGESTION_EMBEDDING_DIM, CONGESTION_SPACE_CARDINAL\n",
      "\u001b[0;31mImportError\u001b[0m: cannot import name 'CongestionLearnableEmbedding' from 'model' (/Users/isaigordeev/Desktop/congestion/models/model.py)"
     ]
    }
   ],
   "source": [
    "from model import CongestionLearnableEmbedding, CongestionWrapperEncoder, CustomLearnableEmbedding\n",
    "import torch\n",
    "from parameters import CONGESTION_EMBEDDING_DIM, CONGESTION_SPACE_CARDINAL\n",
    "\n",
    "num_nodes = 10\n",
    "\n",
    "cong = torch.randint(1, 10, size=(10, num_nodes)).unsqueeze(0)\n",
    "print(cong)\n",
    "\n",
    "edge_index = torch.randint(high=num_nodes-1, size=(2, num_nodes**2//10))\n",
    "print(edge_index)\n",
    "x = CongestionWrapperEncoder(CustomLearnableEmbedding, num_nodes, CONGESTION_SPACE_CARDINAL, CONGESTION_EMBEDDING_DIM, CONGESTION_EMBEDDING_DIM, 1, 0.1)\n",
    "# print(x(cong, edge_index))\n",
    "print(x(cong, edge_index).shape)"
   ]
  },
  {
   "cell_type": "code",
   "execution_count": 1,
   "metadata": {},
   "outputs": [
    {
     "name": "stdout",
     "output_type": "stream",
     "text": [
      "tensor([[[5, 3, 6, 1, 5, 7, 2, 8, 3, 6],\n",
      "         [8, 9, 9, 6, 7, 4, 3, 3, 6, 5],\n",
      "         [8, 6, 4, 4, 9, 2, 6, 5, 2, 6],\n",
      "         [3, 7, 4, 2, 5, 2, 9, 4, 9, 4],\n",
      "         [4, 5, 2, 2, 4, 4, 9, 8, 9, 7],\n",
      "         [6, 8, 7, 4, 5, 1, 3, 3, 6, 4],\n",
      "         [3, 6, 9, 4, 8, 6, 4, 4, 8, 8],\n",
      "         [8, 1, 3, 6, 7, 6, 7, 1, 7, 4],\n",
      "         [3, 3, 1, 6, 8, 6, 7, 3, 7, 1],\n",
      "         [4, 4, 5, 9, 9, 2, 2, 4, 6, 4]]])\n"
     ]
    },
    {
     "ename": "TypeError",
     "evalue": "empty() received an invalid combination of arguments - got (tuple, dtype=NoneType, device=NoneType), but expected one of:\n * (tuple of ints size, *, tuple of names names, torch.memory_format memory_format, torch.dtype dtype, torch.layout layout, torch.device device, bool pin_memory, bool requires_grad)\n * (tuple of ints size, *, torch.memory_format memory_format, Tensor out, torch.dtype dtype, torch.layout layout, torch.device device, bool pin_memory, bool requires_grad)\n",
     "output_type": "error",
     "traceback": [
      "\u001b[0;31m---------------------------------------------------------------------------\u001b[0m",
      "\u001b[0;31mTypeError\u001b[0m                                 Traceback (most recent call last)",
      "\u001b[1;32m/Users/isaigordeev/Desktop/congestion/models/test.ipynb Cell 6\u001b[0m line \u001b[0;36m1\n\u001b[1;32m      <a href='vscode-notebook-cell:/Users/isaigordeev/Desktop/congestion/models/test.ipynb#W5sZmlsZQ%3D%3D?line=7'>8</a>\u001b[0m edge_index \u001b[39m=\u001b[39m torch\u001b[39m.\u001b[39mrandint(high\u001b[39m=\u001b[39mnum_nodes\u001b[39m-\u001b[39m\u001b[39m1\u001b[39m, size\u001b[39m=\u001b[39m(\u001b[39m2\u001b[39m, num_nodes\u001b[39m*\u001b[39m\u001b[39m*\u001b[39m\u001b[39m2\u001b[39m\u001b[39m/\u001b[39m\u001b[39m/\u001b[39m\u001b[39m10\u001b[39m))\n\u001b[1;32m     <a href='vscode-notebook-cell:/Users/isaigordeev/Desktop/congestion/models/test.ipynb#W5sZmlsZQ%3D%3D?line=9'>10</a>\u001b[0m \u001b[39m# x = CongestionWrapperEncoder(CongestionLearnableEmbedding, num_nodes, CONGESTION_EMBEDDING_DIM, CONGESTION_EMBEDDING_DIM, 1, 0.1)\u001b[39;00m\n\u001b[1;32m     <a href='vscode-notebook-cell:/Users/isaigordeev/Desktop/congestion/models/test.ipynb#W5sZmlsZQ%3D%3D?line=10'>11</a>\u001b[0m \u001b[39m# print(x(cong, edge_index))\u001b[39;00m\n\u001b[1;32m     <a href='vscode-notebook-cell:/Users/isaigordeev/Desktop/congestion/models/test.ipynb#W5sZmlsZQ%3D%3D?line=11'>12</a>\u001b[0m \u001b[39m# x(cong, edge_index).shape\u001b[39;00m\n\u001b[0;32m---> <a href='vscode-notebook-cell:/Users/isaigordeev/Desktop/congestion/models/test.ipynb#W5sZmlsZQ%3D%3D?line=13'>14</a>\u001b[0m x \u001b[39m=\u001b[39m CongestionModel(CongestionLearnableEmbedding, CongestionWrapperEncoder, CongestionTransformerDecoder, \u001b[39mNone\u001b[39;49;00m, \u001b[39m10\u001b[39;49m, \u001b[39m5\u001b[39;49m, \u001b[39m5\u001b[39;49m, \u001b[39m1\u001b[39;49m, \u001b[39m0.1\u001b[39;49m)(cong, edge_index)\n\u001b[1;32m     <a href='vscode-notebook-cell:/Users/isaigordeev/Desktop/congestion/models/test.ipynb#W5sZmlsZQ%3D%3D?line=14'>15</a>\u001b[0m x\n",
      "File \u001b[0;32m~/Desktop/congestion/models/model.py:204\u001b[0m, in \u001b[0;36mCongestionModel.__init__\u001b[0;34m(self, congestion_embedding, congestion_wrapper_encoder, congestion_decoder, num_nodes, embedding_dim, in_channels_wrapper_encoder, out_channels_wrapper_encoder, num_heads_wrapper_encoder, dropout_wrapper_encoder, num_transformer_layers, mlp_size, num_heads, attn_dropout)\u001b[0m\n\u001b[1;32m    186\u001b[0m \u001b[39mdef\u001b[39;00m \u001b[39m__init__\u001b[39m(\u001b[39mself\u001b[39m,\n\u001b[1;32m    187\u001b[0m              congestion_embedding: CongestionLearnableEmbedding,\n\u001b[1;32m    188\u001b[0m              congestion_wrapper_encoder: CongestionWrapperEncoder,\n\u001b[0;32m   (...)\u001b[0m\n\u001b[1;32m    200\u001b[0m              attn_dropout: \u001b[39mfloat\u001b[39m \u001b[39m=\u001b[39m \u001b[39m0\u001b[39m,\n\u001b[1;32m    201\u001b[0m              ):\n\u001b[1;32m    202\u001b[0m     \u001b[39msuper\u001b[39m()\u001b[39m.\u001b[39m\u001b[39m__init__\u001b[39m()\n\u001b[0;32m--> 204\u001b[0m     \u001b[39mself\u001b[39m\u001b[39m.\u001b[39mcongestion_wrapper_encoder \u001b[39m=\u001b[39m congestion_wrapper_encoder(congestion_embedding,\n\u001b[1;32m    205\u001b[0m                                                                  num_nodes,\n\u001b[1;32m    206\u001b[0m                                                                  in_channels_wrapper_encoder,\n\u001b[1;32m    207\u001b[0m                                                                  out_channels_wrapper_encoder,\n\u001b[1;32m    208\u001b[0m                                                                  num_heads_wrapper_encoder,\n\u001b[1;32m    209\u001b[0m                                                                  dropout_wrapper_encoder)\n\u001b[1;32m    211\u001b[0m     \u001b[39mself\u001b[39m\u001b[39m.\u001b[39mcongestion_decoder \u001b[39m=\u001b[39m congestion_decoder(num_nodes,\n\u001b[1;32m    212\u001b[0m                                                  num_transformer_layers,\n\u001b[1;32m    213\u001b[0m                                                  embedding_dim,\n\u001b[1;32m    214\u001b[0m                                                  mlp_size,\n\u001b[1;32m    215\u001b[0m                                                  num_heads,\n\u001b[1;32m    216\u001b[0m                                                  attn_dropout)\n",
      "File \u001b[0;32m~/Desktop/congestion/models/model.py:36\u001b[0m, in \u001b[0;36mCongestionWrapperEncoder.__init__\u001b[0;34m(self, embeddings, node_number, in_channels, out_channels, heads, dropout)\u001b[0m\n\u001b[1;32m     26\u001b[0m \u001b[39mdef\u001b[39;00m \u001b[39m__init__\u001b[39m(\u001b[39mself\u001b[39m,\n\u001b[1;32m     27\u001b[0m             embeddings: CongestionLearnableEmbedding,\n\u001b[1;32m     28\u001b[0m             node_number\u001b[39m=\u001b[39mDEFAULT_TERMINAL_NUMBER,\n\u001b[0;32m   (...)\u001b[0m\n\u001b[1;32m     31\u001b[0m             heads\u001b[39m=\u001b[39mATTENTION_HEADS,\n\u001b[1;32m     32\u001b[0m             dropout\u001b[39m=\u001b[39mDROPOUT):\n\u001b[1;32m     34\u001b[0m     \u001b[39msuper\u001b[39m()\u001b[39m.\u001b[39m\u001b[39m__init__\u001b[39m()\n\u001b[0;32m---> 36\u001b[0m     \u001b[39mself\u001b[39m\u001b[39m.\u001b[39mcongestion_embeddings \u001b[39m=\u001b[39m embeddings(node_number, in_channels)\n\u001b[1;32m     38\u001b[0m     \u001b[39mself\u001b[39m\u001b[39m.\u001b[39mnode_number \u001b[39m=\u001b[39m node_number\n\u001b[1;32m     39\u001b[0m     \u001b[39mself\u001b[39m\u001b[39m.\u001b[39min_channels \u001b[39m=\u001b[39m in_channels\n",
      "File \u001b[0;32m~/Desktop/congestion/models/model.py:18\u001b[0m, in \u001b[0;36mCongestionLearnableEmbedding.__init__\u001b[0;34m(self, num_tokens, embedding_dim)\u001b[0m\n\u001b[1;32m     16\u001b[0m \u001b[39mdef\u001b[39;00m \u001b[39m__init__\u001b[39m(\u001b[39mself\u001b[39m, num_tokens\u001b[39m=\u001b[39mCONGESTION_EMBEDDING_CARDINAL, embedding_dim\u001b[39m=\u001b[39mCONGESTION_EMBEDDING_DIM):\n\u001b[1;32m     17\u001b[0m     \u001b[39msuper\u001b[39m()\u001b[39m.\u001b[39m\u001b[39m__init__\u001b[39m()\n\u001b[0;32m---> 18\u001b[0m     \u001b[39mself\u001b[39m\u001b[39m.\u001b[39membeddings \u001b[39m=\u001b[39m nn\u001b[39m.\u001b[39;49mEmbedding(num_tokens, embedding_dim)\n",
      "File \u001b[0;32m~/Desktop/congestion/venv/lib/python3.10/site-packages/torch/nn/modules/sparse.py:142\u001b[0m, in \u001b[0;36mEmbedding.__init__\u001b[0;34m(self, num_embeddings, embedding_dim, padding_idx, max_norm, norm_type, scale_grad_by_freq, sparse, _weight, _freeze, device, dtype)\u001b[0m\n\u001b[1;32m    140\u001b[0m \u001b[39mself\u001b[39m\u001b[39m.\u001b[39mscale_grad_by_freq \u001b[39m=\u001b[39m scale_grad_by_freq\n\u001b[1;32m    141\u001b[0m \u001b[39mif\u001b[39;00m _weight \u001b[39mis\u001b[39;00m \u001b[39mNone\u001b[39;00m:\n\u001b[0;32m--> 142\u001b[0m     \u001b[39mself\u001b[39m\u001b[39m.\u001b[39mweight \u001b[39m=\u001b[39m Parameter(torch\u001b[39m.\u001b[39;49mempty((num_embeddings, embedding_dim), \u001b[39m*\u001b[39;49m\u001b[39m*\u001b[39;49mfactory_kwargs),\n\u001b[1;32m    143\u001b[0m                             requires_grad\u001b[39m=\u001b[39m\u001b[39mnot\u001b[39;00m _freeze)\n\u001b[1;32m    144\u001b[0m     \u001b[39mself\u001b[39m\u001b[39m.\u001b[39mreset_parameters()\n\u001b[1;32m    145\u001b[0m \u001b[39melse\u001b[39;00m:\n",
      "\u001b[0;31mTypeError\u001b[0m: empty() received an invalid combination of arguments - got (tuple, dtype=NoneType, device=NoneType), but expected one of:\n * (tuple of ints size, *, tuple of names names, torch.memory_format memory_format, torch.dtype dtype, torch.layout layout, torch.device device, bool pin_memory, bool requires_grad)\n * (tuple of ints size, *, torch.memory_format memory_format, Tensor out, torch.dtype dtype, torch.layout layout, torch.device device, bool pin_memory, bool requires_grad)\n"
     ]
    }
   ],
   "source": [
    "from model import CongestionLearnableEmbedding, CongestionWrapperEncoder, CongestionModel, CongestionTransformerDecoder\n",
    "import torch\n",
    "from parameters import CONGESTION_EMBEDDING_DIM\n",
    "num_nodes = 10\n",
    "cong = torch.randint(1, 10, size=(10, num_nodes)).unsqueeze(0)\n",
    "print(cong)\n",
    "\n",
    "edge_index = torch.randint(high=num_nodes-1, size=(2, num_nodes**2//10))\n",
    "\n",
    "# x = CongestionWrapperEncoder(CongestionLearnableEmbedding, num_nodes, CONGESTION_EMBEDDING_DIM, CONGESTION_EMBEDDING_DIM, 1, 0.1)\n",
    "# print(x(cong, edge_index))\n",
    "# x(cong, edge_index).shape\n",
    "\n",
    "x = CongestionModel(CongestionLearnableEmbedding, CongestionWrapperEncoder, CongestionTransformerDecoder, None, 10, 5, 5, 1, 0.1)(cong, edge_index)\n",
    "x"
   ]
  },
  {
   "cell_type": "code",
   "execution_count": 1,
   "metadata": {},
   "outputs": [],
   "source": [
    "import torch.nn as nn\n",
    "from torch_geometric.nn import GCNConv\n",
    "\n",
    "class LearnableNodeGCN(nn.Module):\n",
    "    def __init__(self, in_features, out_features, num_learnable_features):\n",
    "        super(self).__init__()\n",
    "\n",
    "        self.node_embedding = nn.Linear(in_features, num_learnable_features)\n",
    "        self.conv = GCNConv(num_learnable_features + in_features, out_features)\n",
    "\n",
    "    def forward(self, x, edge_index):\n",
    "        node_embeddings = self.node_embedding(x)\n",
    "        x = torch.cat((node_embeddings, x), dim=1)\n",
    "        x = self.conv(x, edge_index)\n",
    "\n",
    "        return x\n"
   ]
  },
  {
   "cell_type": "code",
   "execution_count": 2,
   "metadata": {},
   "outputs": [
    {
     "data": {
      "text/plain": [
       "=================================================================\n",
       "Layer (type:depth-idx)                   Param #\n",
       "=================================================================\n",
       "LearnableNodeGCN                         --\n",
       "├─Linear: 1-1                            8\n",
       "├─GCNConv: 1-2                           5\n",
       "│    └─SumAggregation: 2-1               --\n",
       "│    └─Linear: 2-2                       25\n",
       "=================================================================\n",
       "Total params: 38\n",
       "Trainable params: 38\n",
       "Non-trainable params: 0\n",
       "================================================================="
      ]
     },
     "execution_count": 2,
     "metadata": {},
     "output_type": "execute_result"
    }
   ],
   "source": [
    "import torch\n",
    "from torch_geometric.nn import GCNConv\n",
    "from torchinfo import summary\n",
    "\n",
    "model = LearnableNodeGCN(3, 5, 2)\n",
    "device = torch.device(\"cpu\" if not torch.cuda.is_available() else \"cuda\")\n",
    "model.to(device)\n",
    "\n",
    "# Print a summary of the model\n",
    "summary(model, input_names=[\"x\", \"edge_index\"])\n"
   ]
  },
  {
   "cell_type": "code",
   "execution_count": 6,
   "metadata": {},
   "outputs": [
    {
     "name": "stdout",
     "output_type": "stream",
     "text": [
      "None\n",
      "None\n"
     ]
    },
    {
     "data": {
      "text/plain": [
       "=================================================================\n",
       "Layer (type:depth-idx)                   Param #\n",
       "=================================================================\n",
       "GNNModel                                 --\n",
       "├─GCNConv: 1-1                           10\n",
       "│    └─SumAggregation: 2-1               --\n",
       "│    └─Linear: 2-2                       160\n",
       "=================================================================\n",
       "Total params: 170\n",
       "Trainable params: 170\n",
       "Non-trainable params: 0\n",
       "================================================================="
      ]
     },
     "execution_count": 6,
     "metadata": {},
     "output_type": "execute_result"
    }
   ],
   "source": [
    "import torch\n",
    "from torch_geometric.data import Data\n",
    "from torch_geometric.nn import GCNConv\n",
    "\n",
    "\n",
    "edge_index = torch.tensor([[0, 1, 1, 2], [1, 0, 2, 1]], dtype=torch.long)\n",
    "x = torch.randn(3, 16)\n",
    "print(x.grad)\n",
    "\n",
    "data = Data(x=x, edge_index=edge_index)\n",
    "print(x.grad_fn)\n",
    "\n",
    "class GNNModel(torch.nn.Module):\n",
    "    def __init__(self, in_channels, out_channels):\n",
    "        super(GNNModel, self).__init__()\n",
    "        self.conv = GCNConv(in_channels, out_channels)\n",
    "\n",
    "    def forward(self, x, edge_index):\n",
    "        x = self.conv(x, edge_index)\n",
    "        return x\n",
    "\n",
    "\n",
    "model = GNNModel(in_channels=16, out_channels=10)\n",
    "device = torch.device(\"cpu\" if not torch.cuda.is_available() else \"cuda\")\n",
    "model.to(device)\n",
    "\n",
    "# Print a summary of the model\n",
    "summary(model, input_names=[\"x\", \"edge_index\"])\n"
   ]
  },
  {
   "cell_type": "code",
   "execution_count": 13,
   "metadata": {},
   "outputs": [
    {
     "ename": "TypeError",
     "evalue": "tensor() takes 1 positional argument but 2 were given",
     "output_type": "error",
     "traceback": [
      "\u001b[0;31m---------------------------------------------------------------------------\u001b[0m",
      "\u001b[0;31mTypeError\u001b[0m                                 Traceback (most recent call last)",
      "Cell \u001b[0;32mIn[13], line 8\u001b[0m\n\u001b[1;32m      5\u001b[0m x \u001b[38;5;241m=\u001b[39m torch\u001b[38;5;241m.\u001b[39mtensor([[\u001b[38;5;241m1.0\u001b[39m, \u001b[38;5;241m2.0\u001b[39m], [\u001b[38;5;241m3.0\u001b[39m, \u001b[38;5;241m4.0\u001b[39m], [\u001b[38;5;241m5.0\u001b[39m, \u001b[38;5;241m6.0\u001b[39m]], requires_grad\u001b[38;5;241m=\u001b[39m\u001b[38;5;28;01mTrue\u001b[39;00m)\n\u001b[1;32m      6\u001b[0m edge_index \u001b[38;5;241m=\u001b[39m torch\u001b[38;5;241m.\u001b[39mtensor([[\u001b[38;5;241m0\u001b[39m, \u001b[38;5;241m1\u001b[39m, \u001b[38;5;241m1\u001b[39m, \u001b[38;5;241m2\u001b[39m], [\u001b[38;5;241m1\u001b[39m, \u001b[38;5;241m0\u001b[39m, \u001b[38;5;241m2\u001b[39m, \u001b[38;5;241m1\u001b[39m]], dtype\u001b[38;5;241m=\u001b[39mtorch\u001b[38;5;241m.\u001b[39mlong)\n\u001b[0;32m----> 8\u001b[0m x \u001b[38;5;241m=\u001b[39m \u001b[43mtorch\u001b[49m\u001b[38;5;241;43m.\u001b[39;49m\u001b[43mtensor\u001b[49m\u001b[43m(\u001b[49m\u001b[43mx\u001b[49m\u001b[43m,\u001b[49m\u001b[43m \u001b[49m\u001b[43mx\u001b[49m\u001b[43m)\u001b[49m\n\u001b[1;32m      9\u001b[0m data \u001b[38;5;241m=\u001b[39m Data(x\u001b[38;5;241m=\u001b[39mx, edge_index\u001b[38;5;241m=\u001b[39medge_index)\n\u001b[1;32m     11\u001b[0m \u001b[38;5;66;03m# Perform some operation on the node features\u001b[39;00m\n",
      "\u001b[0;31mTypeError\u001b[0m: tensor() takes 1 positional argument but 2 were given"
     ]
    }
   ],
   "source": [
    "import torch\n",
    "from torch_geometric.data import Data\n",
    "\n",
    "\n",
    "embeddings = nn.Embedding(7, 4)\n",
    "\n",
    "\n",
    "# Create a Data object with node features\n",
    "x = torch.tensor([[1.0, 2.0], [3.0, 4.0], [5.0, 6.0]], requires_grad=True)\n",
    "edge_index = torch.tensor([[0, 1, 1, 2], [1, 0, 2, 1]], dtype=torch.long)\n",
    "\n",
    "x = torch.tensor(x, x)\n",
    "data = Data(x=x, edge_index=edge_index)\n",
    "\n",
    "# Perform some operation on the node features\n",
    "output = data.x.sum()\n",
    "\n",
    "# Perform backpropagation\n",
    "output.backward()\n",
    "\n",
    "# Access gradients\n",
    "gradients = data.x.grad\n",
    "\n",
    "print(\"Node features:\", data.x)\n",
    "print(\"Gradients:\", gradients)\n"
   ]
  },
  {
   "cell_type": "code",
   "execution_count": 19,
   "metadata": {},
   "outputs": [
    {
     "data": {
      "text/plain": [
       "tensor([[[ 0.7733, -1.7869,  0.7220,  0.4980,  0.2973]]])"
      ]
     },
     "execution_count": 19,
     "metadata": {},
     "output_type": "execute_result"
    }
   ],
   "source": [
    "torch.randn(1, 1, 5)"
   ]
  },
  {
   "cell_type": "code",
   "execution_count": null,
   "metadata": {},
   "outputs": [],
   "source": []
  }
 ],
 "metadata": {
  "kernelspec": {
   "display_name": "venv",
   "language": "python",
   "name": "python3"
  },
  "language_info": {
   "codemirror_mode": {
    "name": "ipython",
    "version": 3
   },
   "file_extension": ".py",
   "mimetype": "text/x-python",
   "name": "python",
   "nbconvert_exporter": "python",
   "pygments_lexer": "ipython3",
   "version": "3.10.9"
  }
 },
 "nbformat": 4,
 "nbformat_minor": 2
}
